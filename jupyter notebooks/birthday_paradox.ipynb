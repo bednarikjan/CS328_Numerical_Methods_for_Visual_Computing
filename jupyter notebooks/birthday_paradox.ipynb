{
 "cells": [
  {
   "cell_type": "markdown",
   "metadata": {},
   "source": [
    "# Birthday paradox"
   ]
  },
  {
   "cell_type": "markdown",
   "metadata": {},
   "source": [
    "## Introduction\n",
    "\n",
    "In this example, we will be studying at the *Birthday paradox*. We want to answer the following question:\n",
    "What is the probability that two people in a random set of $n$ people share the same birthday?\n",
    "\n",
    "Surprisingly, it only takes $n=23$ people to have a probability $> 0.5$ !\n",
    "(More information on [Wikipedia](https://en.wikipedia.org/wiki/Birthday_problem) if you're interested.)\n",
    "\n",
    "Let us write a small python programm to verify this. We propose the following experiment:\n",
    "- Choose $n$ random birthdays\n",
    "- Check if two of the birthdays are the same\n",
    "- Repeat this process $K$ times and keep track of how many times it was true\n",
    "\n",
    "This will get us an (empirical) estimate of the true probability that will converge to the true probability for large enough values of $K$. This is in general called a *Monte Carlo technique*, that you will hear more about later in the semester."
   ]
  },
  {
   "cell_type": "markdown",
   "metadata": {},
   "source": [
    "## Program"
   ]
  },
  {
   "cell_type": "markdown",
   "metadata": {},
   "source": [
    "We want randomness in our program, so we import an external module that can produce (pseudo) random numbers:"
   ]
  },
  {
   "cell_type": "code",
   "execution_count": 1,
   "metadata": {
    "ExecuteTime": {
     "end_time": "2017-09-17T17:43:44.894393Z",
     "start_time": "2017-09-17T17:43:44.890625Z"
    },
    "collapsed": true
   },
   "outputs": [],
   "source": [
    "import random as rnd"
   ]
  },
  {
   "cell_type": "markdown",
   "metadata": {},
   "source": [
    "This module has a lot of useful functions built in. To get more information about it, type the following into the notebook:\n",
    "```\n",
    "help(rnd)\n",
    "```\n",
    "\n",
    "We will only use one of the functions: **`random.randint`**\n",
    "This returns a random integer in a range [a,b]. (Note: we make the assumption that birthdays are uniformly distributed over all days in the year.) We will represent dates in a year as integers between 0 and 365 (including February 29th)."
   ]
  },
  {
   "cell_type": "code",
   "execution_count": 4,
   "metadata": {
    "ExecuteTime": {
     "end_time": "2017-09-17T17:43:57.533787Z",
     "start_time": "2017-09-17T17:43:57.529959Z"
    },
    "scrolled": false
   },
   "outputs": [
    {
     "data": {
      "text/plain": [
       "3"
      ]
     },
     "execution_count": 4,
     "metadata": {},
     "output_type": "execute_result"
    }
   ],
   "source": [
    "# randint example\n",
    "rnd.randint(0, 4)"
   ]
  },
  {
   "cell_type": "markdown",
   "metadata": {},
   "source": [
    "We want to generate a whole list of random numbers though, so we use a list comprehension:"
   ]
  },
  {
   "cell_type": "code",
   "execution_count": 7,
   "metadata": {
    "ExecuteTime": {
     "end_time": "2017-09-17T17:44:09.420265Z",
     "start_time": "2017-09-17T17:44:09.416461Z"
    }
   },
   "outputs": [
    {
     "name": "stdout",
     "output_type": "stream",
     "text": [
      "[62, 342, 58, 106, 315, 194, 331, 65, 162, 73]\n"
     ]
    }
   ],
   "source": [
    "n = 10 # Assume 10 people for now\n",
    "dates = [rnd.randint(0,365) for i in range(n)]\n",
    "print(dates)"
   ]
  },
  {
   "cell_type": "markdown",
   "metadata": {},
   "source": [
    "Now we need to check if two elements in such a list are the same. This can be a bit tediuous to do by hand, so after checking the built-in functions of list (`help(list)`), we find the function **`list.count`** that returns the number of occurrences for any given element:"
   ]
  },
  {
   "cell_type": "code",
   "execution_count": 8,
   "metadata": {
    "ExecuteTime": {
     "end_time": "2017-09-17T17:44:14.434916Z",
     "start_time": "2017-09-17T17:44:14.430783Z"
    }
   },
   "outputs": [
    {
     "data": {
      "text/plain": [
       "2"
      ]
     },
     "execution_count": 8,
     "metadata": {},
     "output_type": "execute_result"
    }
   ],
   "source": [
    "my_list = [1,2,2,3,4,4,5]\n",
    "my_list.count(4)"
   ]
  },
  {
   "cell_type": "markdown",
   "metadata": {},
   "source": [
    "Let us use another list comprehension to build a list of all dates that occur at least two times."
   ]
  },
  {
   "cell_type": "code",
   "execution_count": 9,
   "metadata": {
    "ExecuteTime": {
     "end_time": "2017-09-17T17:44:19.918677Z",
     "start_time": "2017-09-17T17:44:19.914534Z"
    }
   },
   "outputs": [
    {
     "name": "stdout",
     "output_type": "stream",
     "text": [
      "[]\n"
     ]
    }
   ],
   "source": [
    "duplicates = [x for x in dates if dates.count(x) >= 2]\n",
    "print(duplicates) # For the n=10 we chose above, this list is often empty "
   ]
  },
  {
   "cell_type": "markdown",
   "metadata": {},
   "source": [
    "We don't really care about the actual dates. All we want is to check if there are *any* duplicates, so let's query the length of the list with the **`len`** function:"
   ]
  },
  {
   "cell_type": "code",
   "execution_count": 10,
   "metadata": {
    "ExecuteTime": {
     "end_time": "2017-09-17T17:44:21.242145Z",
     "start_time": "2017-09-17T17:44:21.238299Z"
    }
   },
   "outputs": [
    {
     "name": "stdout",
     "output_type": "stream",
     "text": [
      "False\n"
     ]
    }
   ],
   "source": [
    "num_duplicates = len([x for x in dates if dates.count(x) >= 2])\n",
    "print(num_duplicates > 0)"
   ]
  },
  {
   "cell_type": "markdown",
   "metadata": {},
   "source": [
    "Let's finally wrap these components into a small function that does this experiment $K$ times and computes an average of the probability:"
   ]
  },
  {
   "cell_type": "code",
   "execution_count": 11,
   "metadata": {
    "ExecuteTime": {
     "end_time": "2017-09-17T17:44:22.589783Z",
     "start_time": "2017-09-17T17:44:22.583637Z"
    },
    "collapsed": true
   },
   "outputs": [],
   "source": [
    "# For n people, compute an approximation of the probability that two people share the same birthday, using K iterations\n",
    "def birtyday_paradox(n, K):\n",
    "    s = 0 # Keep track of how often the statement is true\n",
    "    \n",
    "    # Perform K iterations of the same experiment.\n",
    "    for it in range(K):\n",
    "        dates = [rnd.randint(0, 365) for i in range(n)]\n",
    "        if len([x for x in dates if dates.count(x) > 1]) > 0:\n",
    "            s += 1\n",
    "    \n",
    "    # Return average probability\n",
    "    return s / K"
   ]
  },
  {
   "cell_type": "markdown",
   "metadata": {},
   "source": [
    "Now let's consider a very simple case as a sanity check:\n",
    "\n",
    "If we only have two people ($n=2$), the probability should be exactly $\\frac{1}{366}$."
   ]
  },
  {
   "cell_type": "code",
   "execution_count": 102,
   "metadata": {
    "ExecuteTime": {
     "end_time": "2017-09-17T17:34:12.961894Z",
     "start_time": "2017-09-17T17:34:12.958383Z"
    }
   },
   "outputs": [
    {
     "data": {
      "text/plain": [
       "0.00273224043715847"
      ]
     },
     "execution_count": 102,
     "metadata": {},
     "output_type": "execute_result"
    }
   ],
   "source": [
    "1/366"
   ]
  },
  {
   "cell_type": "code",
   "execution_count": 105,
   "metadata": {
    "ExecuteTime": {
     "end_time": "2017-09-17T17:34:17.522657Z",
     "start_time": "2017-09-17T17:34:17.466846Z"
    }
   },
   "outputs": [
    {
     "data": {
      "text/plain": [
       "0.0033"
      ]
     },
     "execution_count": 105,
     "metadata": {},
     "output_type": "execute_result"
    }
   ],
   "source": [
    "birtyday_paradox(2, 10000)"
   ]
  },
  {
   "cell_type": "markdown",
   "metadata": {},
   "source": [
    "This seems a bit off. If we increase the number of iterations $K$, we get a closer estimate:"
   ]
  },
  {
   "cell_type": "code",
   "execution_count": 110,
   "metadata": {
    "ExecuteTime": {
     "end_time": "2017-09-17T17:36:13.593419Z",
     "start_time": "2017-09-17T17:36:13.183803Z"
    }
   },
   "outputs": [
    {
     "data": {
      "text/plain": [
       "0.00287"
      ]
     },
     "execution_count": 110,
     "metadata": {},
     "output_type": "execute_result"
    }
   ],
   "source": [
    "birtyday_paradox(2, 100000)"
   ]
  },
  {
   "cell_type": "markdown",
   "metadata": {},
   "source": [
    "Finally, let's try to look at the original problem. What is the probability for $n=23$?"
   ]
  },
  {
   "cell_type": "code",
   "execution_count": 112,
   "metadata": {
    "ExecuteTime": {
     "end_time": "2017-09-17T17:36:26.451410Z",
     "start_time": "2017-09-17T17:36:22.327381Z"
    }
   },
   "outputs": [
    {
     "data": {
      "text/plain": [
       "0.50617"
      ]
     },
     "execution_count": 112,
     "metadata": {},
     "output_type": "execute_result"
    }
   ],
   "source": [
    "birtyday_paradox(23, 100000)"
   ]
  },
  {
   "cell_type": "markdown",
   "metadata": {},
   "source": [
    "Looks like we indeed get a probability slightly higher than $0.5$ !\n",
    "\n",
    "Interestingly, it also only needs around 70 people for a $0.999$ probability:"
   ]
  },
  {
   "cell_type": "code",
   "execution_count": 12,
   "metadata": {
    "ExecuteTime": {
     "end_time": "2017-09-17T17:45:54.539219Z",
     "start_time": "2017-09-17T17:45:37.758824Z"
    }
   },
   "outputs": [
    {
     "data": {
      "text/plain": [
       "0.99912"
      ]
     },
     "execution_count": 12,
     "metadata": {},
     "output_type": "execute_result"
    }
   ],
   "source": [
    "birtyday_paradox(70, 100000)"
   ]
  },
  {
   "cell_type": "code",
   "execution_count": null,
   "metadata": {
    "collapsed": true
   },
   "outputs": [],
   "source": []
  },
  {
   "cell_type": "code",
   "execution_count": null,
   "metadata": {
    "collapsed": true
   },
   "outputs": [],
   "source": []
  }
 ],
 "metadata": {
  "kernelspec": {
   "display_name": "Python 3",
   "language": "python",
   "name": "python3"
  },
  "language_info": {
   "codemirror_mode": {
    "name": "ipython",
    "version": 3
   },
   "file_extension": ".py",
   "mimetype": "text/x-python",
   "name": "python",
   "nbconvert_exporter": "python",
   "pygments_lexer": "ipython3",
   "version": "3.6.1"
  }
 },
 "nbformat": 4,
 "nbformat_minor": 2
}
